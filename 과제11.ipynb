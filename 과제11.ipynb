{
  "nbformat": 4,
  "nbformat_minor": 0,
  "metadata": {
    "colab": {
      "provenance": [],
      "authorship_tag": "ABX9TyOer3J+EO3zeXM2RjRLogRe",
      "include_colab_link": true
    },
    "kernelspec": {
      "name": "python3",
      "display_name": "Python 3"
    },
    "language_info": {
      "name": "python"
    }
  },
  "cells": [
    {
      "cell_type": "markdown",
      "metadata": {
        "id": "view-in-github",
        "colab_type": "text"
      },
      "source": [
        "<a href=\"https://colab.research.google.com/github/studentdecuple/asth_python/blob/main/%EA%B3%BC%EC%A0%9C11.ipynb\" target=\"_parent\"><img src=\"https://colab.research.google.com/assets/colab-badge.svg\" alt=\"Open In Colab\"/></a>"
      ]
    },
    {
      "cell_type": "code",
      "execution_count": 2,
      "metadata": {
        "colab": {
          "base_uri": "https://localhost:8080/"
        },
        "id": "BrfmoYIEfJ3p",
        "outputId": "4ea01e11-5efe-471d-e0fe-ffe94c0e28ef"
      },
      "outputs": [
        {
          "output_type": "stream",
          "name": "stdout",
          "text": [
            "숫자 0: 10\n",
            "숫자 1: 20\n",
            "숫자 2: 30\n",
            "숫자 3: 40\n",
            "숫자 4: 50\n",
            "리스트의 합계:  150\n"
          ]
        }
      ],
      "source": [
        "numList = [ 0, 0, 0, 0, 0 ]\n",
        "\n",
        "numList[0] = int(input(\"숫자 0: \"))\n",
        "numList[1] = int(input(\"숫자 1: \"))\n",
        "numList[2] = int(input(\"숫자 2: \"))\n",
        "numList[3] = int(input(\"숫자 3: \"))\n",
        "numList[4] = int(input(\"숫자 4: \"))\n",
        "\n",
        "\n",
        "sum = numList[0] + numList[1] + numList[2] + numList[3] + numList[4]\n",
        "print(\"리스트의 합계: \", sum)"
      ]
    },
    {
      "cell_type": "code",
      "source": [
        "fooList = []\n",
        "\n",
        "fooList.append(0)\n",
        "fooList.append(1)\n",
        "fooList.append(2)\n",
        "fooList.append(3)\n",
        "\n",
        "print(fooList)"
      ],
      "metadata": {
        "colab": {
          "base_uri": "https://localhost:8080/"
        },
        "id": "e0lrPhSBsm1s",
        "outputId": "e0b3877b-edd7-4d5c-fc65-edd69c72ddb6"
      },
      "execution_count": 3,
      "outputs": [
        {
          "output_type": "stream",
          "name": "stdout",
          "text": [
            "[0, 1, 2, 3]\n"
          ]
        }
      ]
    },
    {
      "cell_type": "code",
      "source": [
        "fooList = []\n",
        "\n",
        "for i in range(0, 4):\n",
        "  fooList.append(i)\n",
        "\n",
        "print(fooList)"
      ],
      "metadata": {
        "colab": {
          "base_uri": "https://localhost:8080/"
        },
        "id": "4CtjFCwTtpEs",
        "outputId": "0e32df36-1534-4450-c3db-04d8040fe63f"
      },
      "execution_count": 4,
      "outputs": [
        {
          "output_type": "stream",
          "name": "stdout",
          "text": [
            "[0, 1, 2, 3]\n"
          ]
        }
      ]
    },
    {
      "cell_type": "code",
      "source": [
        "fooList = [ 10, 20, 30, 40 ]\n",
        "\n",
        "print(fooList[0:3])\n",
        "print(fooList[2:4])\n",
        "\n",
        "print(fooList[2:])\n",
        "print(fooList[:2])"
      ],
      "metadata": {
        "colab": {
          "base_uri": "https://localhost:8080/"
        },
        "id": "Me-w8G4guAGE",
        "outputId": "c5fcf973-d79b-4df7-e63c-41b142f085f9"
      },
      "execution_count": 5,
      "outputs": [
        {
          "output_type": "stream",
          "name": "stdout",
          "text": [
            "[10, 20, 30]\n",
            "[30, 40]\n",
            "[30, 40]\n",
            "[10, 20]\n"
          ]
        }
      ]
    },
    {
      "cell_type": "code",
      "source": [
        "import random\n",
        "\n",
        "sentences = [\n",
        "    \"하루에 3시간 걸으면, 7년 후 지구를 한 바퀴 돌 수 있다.\",\n",
        "    \"신은 용기 있는 자를 결코 버리지 않는다.\",\n",
        "    \"피할 수 없다면 즐겨라.\",\n",
        "    \"먼저 자신을 비웃어라, 다른 사람이 당신을 비웃기 전에.\",\n",
        "    \"어리석은 자는 멀리서 행복을 찾고, 현명한 자는 자신의 발치에서 행복을 키워간다.\",\n",
        "    \"한 번의 실패와 영원한 실패를 혼동하지 마라.\",\n",
        "    \"내일은 내일의 태양이 뜬다.\",\n",
        "    \"일단 계단을 밟아야 계단 위에 올라설 수 있다.\",\n",
        "    \"오랫동안 꿈을 그리는 사람은 그 꿈을 닮아 간다.\",\n",
        "    \"자신감 있는 표정을 지으면, 자신감이 생긴다.\",\n",
        "    \"평생 살 것처럼 꿈꾸고, 내일 죽을 것처럼 오늘을 살아라.\"\n",
        "]\n",
        "\n",
        "sentenceIndex = random.randrange(0, len(sentences))\n",
        "print(\"오늘의 명언:\", sentences[sentenceIndex])\n",
        "\n",
        "# print(\"오늘의 명언:\", random.choice(sentences))"
      ],
      "metadata": {
        "colab": {
          "base_uri": "https://localhost:8080/"
        },
        "id": "rm8P3d_MurC8",
        "outputId": "9d186d63-58f4-4277-eff5-5a51f709c13b"
      },
      "execution_count": 10,
      "outputs": [
        {
          "output_type": "stream",
          "name": "stdout",
          "text": [
            "오늘의 명언: 신은 용기 있는 자를 결코 버리지 않는다.\n"
          ]
        }
      ]
    },
    {
      "cell_type": "code",
      "source": [
        "from datetime import date\n",
        "from math import floor\n",
        "\n",
        "today = date.today()\n",
        "birthday = date(2005, 11, 5)\n",
        "\n",
        "age = today - birthday\n",
        "print(\"현재 내 만 나이:\", floor(age.days / 365))"
      ],
      "metadata": {
        "colab": {
          "base_uri": "https://localhost:8080/"
        },
        "id": "UJeH3gtrzSOF",
        "outputId": "451c8f6e-aad3-4471-b71b-92d9247b6d5f"
      },
      "execution_count": 16,
      "outputs": [
        {
          "output_type": "stream",
          "name": "stdout",
          "text": [
            "현재 내 만 나이: 17\n"
          ]
        }
      ]
    },
    {
      "cell_type": "code",
      "source": [
        "from datetime import date\n",
        "\n",
        "today = date.today()\n",
        "testDay = date(2023, 11, 16)\n",
        "\n",
        "remainingDay = testDay - today\n",
        "print(\"수능까지 D -\", remainingDay.days)"
      ],
      "metadata": {
        "colab": {
          "base_uri": "https://localhost:8080/"
        },
        "id": "xMqmjalyz5OE",
        "outputId": "d27c965b-d60c-471b-b9b8-1f80a003c35b"
      },
      "execution_count": 20,
      "outputs": [
        {
          "output_type": "stream",
          "name": "stdout",
          "text": [
            "수능까지 D - 220\n"
          ]
        }
      ]
    }
  ]
}
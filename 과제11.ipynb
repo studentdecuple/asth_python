{
  "nbformat": 4,
  "nbformat_minor": 0,
  "metadata": {
    "colab": {
      "provenance": [],
      "authorship_tag": "ABX9TyPl2z8fWRwOC+h9pK8V0xF3",
      "include_colab_link": true
    },
    "kernelspec": {
      "name": "python3",
      "display_name": "Python 3"
    },
    "language_info": {
      "name": "python"
    }
  },
  "cells": [
    {
      "cell_type": "markdown",
      "metadata": {
        "id": "view-in-github",
        "colab_type": "text"
      },
      "source": [
        "<a href=\"https://colab.research.google.com/github/studentdecuple/asth_python/blob/main/%EA%B3%BC%EC%A0%9C11.ipynb\" target=\"_parent\"><img src=\"https://colab.research.google.com/assets/colab-badge.svg\" alt=\"Open In Colab\"/></a>"
      ]
    },
    {
      "cell_type": "code",
      "execution_count": 2,
      "metadata": {
        "colab": {
          "base_uri": "https://localhost:8080/"
        },
        "id": "BrfmoYIEfJ3p",
        "outputId": "4ea01e11-5efe-471d-e0fe-ffe94c0e28ef"
      },
      "outputs": [
        {
          "output_type": "stream",
          "name": "stdout",
          "text": [
            "숫자 0: 10\n",
            "숫자 1: 20\n",
            "숫자 2: 30\n",
            "숫자 3: 40\n",
            "숫자 4: 50\n",
            "리스트의 합계:  150\n"
          ]
        }
      ],
      "source": [
        "numList = [ 0, 0, 0, 0, 0 ]\n",
        "\n",
        "numList[0] = int(input(\"숫자 0: \"))\n",
        "numList[1] = int(input(\"숫자 1: \"))\n",
        "numList[2] = int(input(\"숫자 2: \"))\n",
        "numList[3] = int(input(\"숫자 3: \"))\n",
        "numList[4] = int(input(\"숫자 4: \"))\n",
        "\n",
        "\n",
        "sum = numList[0] + numList[1] + numList[2] + numList[3] + numList[4]\n",
        "print(\"리스트의 합계: \", sum)"
      ]
    }
  ]
}